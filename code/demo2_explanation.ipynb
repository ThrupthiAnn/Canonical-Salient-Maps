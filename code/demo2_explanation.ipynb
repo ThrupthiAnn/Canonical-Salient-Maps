{
 "cells": [
  {
   "cell_type": "markdown",
   "metadata": {},
   "source": [
    "Author: Thrupthi Ann John https://github.com/ThrupthiAnn\n",
    "\n",
    "\n",
    "# Demo: Calculate the explanation maps used in our paper\n",
    "Use this notebook to reproduce the quantitative results given in our paper. This is the second demo notebook. First run <b>demo1_maps.ipynb</b>. After running this notebook, run <b>demo3_metrics.ipynb</b>\n",
    "    \n",
    "## Step 1: Obtain heatmaps using other methods for comparison\n",
    "Obtain all the heatmaps you need to compare with canonical saliency maps. We have provided GradCAM, GradCAM++ and ScoreCAM heatmaps for our test images for the recognition model. \n",
    "<p> Here are the code links for calculating heatmaps of <a href=\"https://github.com/utkuozbulak/pytorch-cnn-visualizations/tree/master/src\">GradCAM</a>, <a href=\"https://github.com/adityac94/Grad_CAM_plus_plus\">GradCAM++</a> and <a href=\"https://github.com/utkuozbulak/pytorch-cnn-visualizations/tree/master/src\">ScoreCAM</a>\n",
    "    \n",
    "<p>CMS maps for models trained on CelebA are provided. \n",
    "\n"
   ]
  },
  {
   "cell_type": "code",
   "execution_count": null,
   "metadata": {
    "tags": []
   },
   "outputs": [],
   "source": [
    "import numpy as np\n",
    "import matplotlib.pyplot as plt\n",
    "%matplotlib inline\n",
    "from skimage.io import imread\n",
    "from skimage.transform import resize\n",
    "from os.path import join\n",
    "from os import makedirs\n",
    "from scipy.io import loadmat\n",
    "from pathlib import Path\n",
    "\n",
    "samplefolder = '../data/SampleData'\n",
    "resultsfolder = '../results'\n",
    "imagefolder = join(samplefolder, 'SampleImages')\n",
    "meshfolder = join(samplefolder, 'Sample3D')\n",
    "cisfolder = join(resultsfolder, 'CIS')\n",
    "modelfolder= '../data/Models'\n",
    "frontal = imread(join(modelfolder, 'frontal.jpg'))\n",
    "frontal_mesh = loadmat(join(modelfolder, 'frontal_mesh.mat'))['vertices'][::20,:]\n",
    "\n",
    "gradcamfolder = join(samplefolder, 'GradCAM')\n",
    "gradcamplusfolder = join(samplefolder, 'GradCAMPlus')\n",
    "scorecamfolder = join(samplefolder, 'ScoreCAM')\n",
    "cms = np.load(join(modelfolder, 'Recognition_CMS.npy'))\n",
    "\n",
    "interfolder = join(resultsfolder, 'IntermediateResults')\n",
    "transcmsfolder = join(interfolder, 'Translated_CMS')\n",
    "explcmsfolder = join(interfolder, 'Explanation_CMS')\n",
    "explgradcamfolder = join(interfolder, 'Explanation_GradCAM')\n",
    "explgradcamplusfolder = join(interfolder, 'Explanation_GradCAMPlus')\n",
    "explscorecamfolder = join(interfolder, 'Explanation_ScoreCAM')\n",
    "\n",
    "makedirs(transcmsfolder, exist_ok=True)\n",
    "makedirs(explcmsfolder, exist_ok = True)\n",
    "makedirs(explgradcamfolder, exist_ok = True)\n",
    "makedirs(explgradcamplusfolder, exist_ok = True)\n",
    "makedirs(explscorecamfolder, exist_ok = True)\n",
    "\n",
    "p = Path(imagefolder)\n",
    "filenames = [i.stem for i in p.glob('**/*.jpg')]"
   ]
  },
  {
   "cell_type": "markdown",
   "metadata": {},
   "source": [
    "## Step 2: Translate CMS maps\n",
    "Our metrics are calculated after translating the CMS map onto the input face. In this section, we create these translated CMS maps. \n",
    "    \n"
   ]
  },
  {
   "cell_type": "code",
   "execution_count": null,
   "metadata": {
    "tags": []
   },
   "outputs": [],
   "source": [
    "from TranslateCMS import TranslateHeatmap, get_image_numpy\n",
    "\n",
    "for ii in filenames:\n",
    "\tpimg, sz = get_image_numpy(join(imagefolder, ii+'.jpg'))\n",
    "\tmesh = loadmat(join(meshfolder, ii+'_mesh.mat'))['vertices']\n",
    "\tif len(mesh)>2194:\n",
    "\t\tmesh = mesh[::20,:]\n",
    "\tnewheatmap = TranslateHeatmap(cms, frontal_mesh, mesh, pimg, sz)\n",
    "\tnp.save(join(transcmsfolder, ii+'.npy'), newheatmap)"
   ]
  },
  {
   "cell_type": "markdown",
   "metadata": {},
   "source": [
    "## Step 3: Calculate the Explanation maps\n",
    "Here, we calculate the reverse explanation maps for all the heatmaps. Before creating the explanation maps the heatmaps are first normalized to a range of [0,1] and the heatmaps for all the methods are standardized to have the same sum of pixels for each image.\n"
   ]
  },
  {
   "cell_type": "code",
   "execution_count": null,
   "metadata": {
    "tags": []
   },
   "outputs": [],
   "source": [
    "from ExplanationMap import SumNormalize, GetExplanationImage\n",
    "\n",
    "for ii in filenames:\n",
    "\timg = resize(imread(join(imagefolder, ii+'.jpg')),(224,224))\n",
    "\tcis = resize(np.load(join(transcmsfolder, ii+'.npy')),(224,224))\n",
    "\tgradcam  = resize(np.load(join(gradcamfolder, ii+'.npy')),(224,224))\n",
    "\tgradcamplus = resize(np.load(join(gradcamplusfolder, ii + '.npy')),(224,224))\n",
    "\tscorecam = resize(np.load(join(scorecamfolder, ii+'.npy')),(224,224))\n",
    "\tgradcam = SumNormalize(gradcam, cis)\n",
    "\tgradcamplus = SumNormalize(gradcamplus, cis)\n",
    "\tscorecam = SumNormalize(scorecam, cis)\n",
    "\tcis = SumNormalize(cis, cis)\n",
    "\tGetExplanationImage(img, 1-cis, join(explcmsfolder, ii+'.jpg'))\n",
    "\tGetExplanationImage(img, 1-gradcam, join(explgradcamfolder, ii+'.jpg'))\n",
    "\tGetExplanationImage(img, 1-gradcamplus, join(explgradcamplusfolder, ii+'.jpg'))\n",
    "\tGetExplanationImage(img, 1-scorecam, join(explscorecamfolder, ii+'.jpg'))\n"
   ]
  },
  {
   "cell_type": "markdown",
   "metadata": {},
   "source": [
    "View some explanation images"
   ]
  },
  {
   "cell_type": "code",
   "execution_count": null,
   "metadata": {
    "tags": []
   },
   "outputs": [],
   "source": [
    "img = imread(join(explcmsfolder, '000686.jpg'))\n",
    "plt.imshow(img)"
   ]
  },
  {
   "cell_type": "code",
   "execution_count": null,
   "metadata": {},
   "outputs": [],
   "source": []
  }
 ],
 "metadata": {
  "kernelspec": {
   "display_name": "Python 3",
   "language": "python",
   "name": "python3"
  },
  "language_info": {
   "codemirror_mode": {
    "name": "ipython",
    "version": 3
   },
   "file_extension": ".py",
   "mimetype": "text/x-python",
   "name": "python",
   "nbconvert_exporter": "python",
   "pygments_lexer": "ipython3",
   "version": "3.7.3"
  }
 },
 "nbformat": 4,
 "nbformat_minor": 4
}
